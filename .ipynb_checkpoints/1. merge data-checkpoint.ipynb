{
 "cells": [
  {
   "cell_type": "code",
   "execution_count": 5,
   "id": "735318a7-9dbc-4417-ad7e-ea8f6d317aba",
   "metadata": {},
   "outputs": [],
   "source": [
    "from dateutil.parser import parse\n",
    "import json"
   ]
  },
  {
   "cell_type": "code",
   "execution_count": 6,
   "id": "e04f0825-5ddc-4823-84b3-8910101dad97",
   "metadata": {},
   "outputs": [],
   "source": [
    "with open(\"raw_data/KivyDiary/diary.txt\", \"r\") as f:\n",
    "    text = f.read()"
   ]
  },
  {
   "cell_type": "code",
   "execution_count": 7,
   "id": "f230d75f-bb48-4ee4-bf45-18def8047aa3",
   "metadata": {},
   "outputs": [],
   "source": [
    "parts = text.split(\"\\n\\n——————————————\\n\\n\")"
   ]
  },
  {
   "cell_type": "code",
   "execution_count": 8,
   "id": "1a4ef51c-9dbd-47b9-9516-98f27e64425f",
   "metadata": {},
   "outputs": [],
   "source": [
    "days = []\n",
    "for part in parts:\n",
    "    part = part.strip()\n",
    "    lines = part.split(\"\\n\")\n",
    "    date = lines[0]\n",
    "    date = str(parse(date))\n",
    "    text = \"\\n\".join(lines[1:])\n",
    "    \n",
    "    a_dict = {\n",
    "        \"type\": \"kivydiary\",\n",
    "        \"date\": date,\n",
    "        \"content\": text,\n",
    "        \"images\": []\n",
    "    }\n",
    "    \n",
    "    days.append(a_dict)"
   ]
  },
  {
   "cell_type": "code",
   "execution_count": 10,
   "id": "0ec58c0f-7144-4485-9cec-bb7dc6c3d952",
   "metadata": {},
   "outputs": [],
   "source": [
    "data1 = days"
   ]
  },
  {
   "cell_type": "code",
   "execution_count": null,
   "id": "d2ee72e1-c81b-4904-bca5-ae23b8e36c8b",
   "metadata": {},
   "outputs": [],
   "source": []
  },
  {
   "cell_type": "code",
   "execution_count": 12,
   "id": "e5345845-3eee-4236-99fa-288e67f58423",
   "metadata": {},
   "outputs": [],
   "source": [
    "from auto_everything.io import IO\n",
    "io_ = IO()"
   ]
  },
  {
   "cell_type": "code",
   "execution_count": 13,
   "id": "ee273f0d-8c09-451b-9cda-69ea2dc8e698",
   "metadata": {},
   "outputs": [],
   "source": [
    "text = io_.read(\"raw_data/Mine/mine.json\")"
   ]
  },
  {
   "cell_type": "code",
   "execution_count": 14,
   "id": "3b6ed9ca-dbc6-411e-a2b6-f3e4b25abd2f",
   "metadata": {},
   "outputs": [],
   "source": [
    "import json\n",
    "\n",
    "data = json.loads(text)"
   ]
  },
  {
   "cell_type": "code",
   "execution_count": 16,
   "id": "a43df444-1151-4d7d-8980-ffc98bcdc594",
   "metadata": {},
   "outputs": [],
   "source": [
    "new_data = []\n",
    "for each in data:\n",
    "    new_data.append({\n",
    "        \"date\": each[0],\n",
    "        \"type\": \"mine\",\n",
    "        \"content\": each[2],\n",
    "        \"images\": each[3]\n",
    "    })"
   ]
  },
  {
   "cell_type": "code",
   "execution_count": 17,
   "id": "7c0b01d1-be37-4a3c-afd0-bfea2dda4d45",
   "metadata": {},
   "outputs": [],
   "source": [
    "data2 = new_data"
   ]
  },
  {
   "cell_type": "code",
   "execution_count": null,
   "id": "7cbb4748-7c4a-47e8-a7de-554883b6b810",
   "metadata": {},
   "outputs": [],
   "source": []
  },
  {
   "cell_type": "code",
   "execution_count": null,
   "id": "019cd805-7a0e-4599-bd85-40ce534e1385",
   "metadata": {},
   "outputs": [],
   "source": []
  },
  {
   "cell_type": "code",
   "execution_count": 18,
   "id": "0dba3268-39cd-48c8-a54f-60cc84af397f",
   "metadata": {},
   "outputs": [],
   "source": [
    "final_data = data1 + data2"
   ]
  },
  {
   "cell_type": "code",
   "execution_count": 22,
   "id": "af128dd8-8619-4fe4-8fe8-90db336ab9cd",
   "metadata": {},
   "outputs": [],
   "source": [
    "text = json.dumps(final_data)"
   ]
  },
  {
   "cell_type": "code",
   "execution_count": 23,
   "id": "c87417d7-511a-4c43-8a15-7da84a663f24",
   "metadata": {},
   "outputs": [],
   "source": [
    "io_.write(\"data.json\", text)"
   ]
  },
  {
   "cell_type": "code",
   "execution_count": null,
   "id": "471eabca-2694-4e00-9d54-3434cb0ee4f6",
   "metadata": {},
   "outputs": [],
   "source": []
  }
 ],
 "metadata": {
  "kernelspec": {
   "display_name": "Python 3",
   "language": "python",
   "name": "python3"
  },
  "language_info": {
   "codemirror_mode": {
    "name": "ipython",
    "version": 3
   },
   "file_extension": ".py",
   "mimetype": "text/x-python",
   "name": "python",
   "nbconvert_exporter": "python",
   "pygments_lexer": "ipython3",
   "version": "3.8.6"
  }
 },
 "nbformat": 4,
 "nbformat_minor": 5
}
