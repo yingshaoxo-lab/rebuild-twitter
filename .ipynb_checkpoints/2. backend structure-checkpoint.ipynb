{
 "cells": [
  {
   "cell_type": "code",
   "execution_count": 1,
   "id": "eaf64c2b-db44-4875-ba56-051a4e91bc01",
   "metadata": {},
   "outputs": [],
   "source": [
    "from auto_everything.io import IO\n",
    "io_ = IO()\n",
    "import json"
   ]
  },
  {
   "cell_type": "code",
   "execution_count": 2,
   "id": "88dad062-6208-4b59-9562-5fffaadb4803",
   "metadata": {},
   "outputs": [],
   "source": [
    "data_object = json.loads(io_.read(\"data.json\"))"
   ]
  },
  {
   "cell_type": "code",
   "execution_count": null,
   "id": "69514c85-43d5-4f14-9bef-a4d0e3995a75",
   "metadata": {},
   "outputs": [],
   "source": []
  },
  {
   "cell_type": "code",
   "execution_count": null,
   "id": "b1f74e69-69de-4c61-bfd7-ee4693bd8a14",
   "metadata": {},
   "outputs": [],
   "source": []
  },
  {
   "cell_type": "code",
   "execution_count": 37,
   "id": "baf62863-f22f-4f20-bcc1-76888324d4af",
   "metadata": {},
   "outputs": [],
   "source": [
    "class MyTwitter():\n",
    "    def __init__(self):\n",
    "        self.id_: int = 0\n",
    "        self.all_tweets: list = []\n",
    "    \n",
    "    def post_tweet(self, content: str):\n",
    "        self.id_ += 1\n",
    "        self.all_tweets.append({\n",
    "            \"id_\": self.id_,\n",
    "            \"content\": content,\n",
    "            \"children\": []\n",
    "        })\n",
    "        return self.id_\n",
    "    \n",
    "    def reply_tweet(self, tweet_id_you_reply_to: int, content: str):\n",
    "        for index, each in enumerate(self.all_tweets):\n",
    "            if each[\"id_\"] == tweet_id_you_reply_to:\n",
    "                new_id = self.post_tweet(content)\n",
    "                self.all_tweets[index][\"children\"].append(new_id)\n",
    "    \n",
    "    def get_tweet(self, tweet_id: int):\n",
    "        for index, each in enumerate(self.all_tweets):\n",
    "            if each[\"id_\"] == tweet_id:\n",
    "                return each"
   ]
  },
  {
   "cell_type": "code",
   "execution_count": 38,
   "id": "ba44c523-8feb-4bcd-bca1-8f585a51f69a",
   "metadata": {},
   "outputs": [
    {
     "data": {
      "text/plain": [
       "[{'id_': 1, 'content': 'hi', 'children': []},\n",
       " {'id_': 2, 'content': 'hello', 'children': [3]},\n",
       " {'id_': 3, 'content': 'nice to meet you', 'children': []}]"
      ]
     },
     "execution_count": 38,
     "metadata": {},
     "output_type": "execute_result"
    }
   ],
   "source": [
    "myTwitter = MyTwitter()\n",
    "myTwitter.post_tweet(\"hi\")\n",
    "myTwitter.post_tweet(\"hello\")\n",
    "myTwitter.reply_tweet(2, \"nice to meet you\")\n",
    "myTwitter.all_tweets"
   ]
  },
  {
   "cell_type": "code",
   "execution_count": 39,
   "id": "123db680-2e06-402a-8e7a-42a72e828961",
   "metadata": {},
   "outputs": [
    {
     "data": {
      "text/plain": [
       "{'id_': 2, 'content': 'hello', 'children': [3]}"
      ]
     },
     "execution_count": 39,
     "metadata": {},
     "output_type": "execute_result"
    }
   ],
   "source": [
    "myTwitter.get_tweet(2)"
   ]
  },
  {
   "cell_type": "code",
   "execution_count": null,
   "id": "428f1a6f-7875-4909-9ab0-990246d7c437",
   "metadata": {},
   "outputs": [],
   "source": []
  }
 ],
 "metadata": {
  "kernelspec": {
   "display_name": "Python 3",
   "language": "python",
   "name": "python3"
  },
  "language_info": {
   "codemirror_mode": {
    "name": "ipython",
    "version": 3
   },
   "file_extension": ".py",
   "mimetype": "text/x-python",
   "name": "python",
   "nbconvert_exporter": "python",
   "pygments_lexer": "ipython3",
   "version": "3.8.6"
  }
 },
 "nbformat": 4,
 "nbformat_minor": 5
}
