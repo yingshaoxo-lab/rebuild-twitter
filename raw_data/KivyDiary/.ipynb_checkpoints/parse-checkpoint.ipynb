{
 "cells": [
  {
   "cell_type": "code",
   "execution_count": 1,
   "metadata": {},
   "outputs": [],
   "source": [
    "from dateutil.parser import parse\n",
    "import json"
   ]
  },
  {
   "cell_type": "code",
   "execution_count": 2,
   "metadata": {},
   "outputs": [],
   "source": [
    "with open(\"diary.txt\", \"r\") as f:\n",
    "    text = f.read()"
   ]
  },
  {
   "cell_type": "code",
   "execution_count": 17,
   "metadata": {},
   "outputs": [
    {
     "name": "stdout",
     "output_type": "stream",
     "text": [
      "\n",
      "\n",
      "工作的好坏 与 宿舍同居人数 呈反比。\n",
      "\n",
      "同居人数越少，工作越好。\n",
      "\n",
      "比如安排住单人宿舍的，绝对是好工作。\n",
      "\n",
      "\n",
      "\n",
      "If it's not a 1 to 1 input to output process, then it has no standard answers.\n",
      "\n",
      "If you want to win at exams, find all fixed 1 to 1 algorithms.\n",
      "\n",
      "\n",
      "\n",
      "我们的考试特别扯，考的就是信息不对称。\n",
      "\n",
      "你都不知道一道题的固定思考模式与解答模式，你连规律都找不到，也没人告诉你，你考个鸡巴，垫底吧你。\n"
     ]
    }
   ],
   "source": [
    "print(text[:500])"
   ]
  },
  {
   "cell_type": "code",
   "execution_count": 4,
   "metadata": {},
   "outputs": [],
   "source": [
    "parts = text.split(\"\\n\\n——————————————\\n\\n\")"
   ]
  },
  {
   "cell_type": "code",
   "execution_count": 10,
   "metadata": {},
   "outputs": [],
   "source": [
    "days = []\n",
    "for part in parts:\n",
    "    part = part.strip()\n",
    "    lines = part.split(\"\\n\")\n",
    "    date = lines[0]\n",
    "    date = str(parse(date))\n",
    "    text = \"\\n\".join(lines[1:])\n",
    "    \n",
    "    a_dict = {\n",
    "        \"type\": \"kivydiary\",\n",
    "        \"date\": date,\n",
    "        \"content\": text,\n",
    "        \"images\": []\n",
    "    }\n",
    "    \n",
    "    days.append(a_dict)"
   ]
  },
  {
   "cell_type": "code",
   "execution_count": 15,
   "metadata": {},
   "outputs": [
    {
     "name": "stdout",
     "output_type": "stream",
     "text": [
      "[{'content': \"\\nI don't l...\",\n",
      "  'date': '2017-12-01...',\n",
      "  'images': [],\n",
      "  'type': 'kivydiary...'},\n",
      " {'content': '\\n\\n我们这一代人，只...',\n",
      "  'date': '2017-12-14...',\n",
      "  'images': [],\n",
      "  'type': 'kivydiary...'},\n",
      " {'content': '\\n\\n下了 spy c...',\n",
      "  'date': '2017-12-16...',\n",
      "  'images': [],\n",
      "  'type': 'kivydiary...'},\n",
      " {'content': '\\n\\nWhen you...',\n",
      "  'date': '2017-12-26...',\n",
      "  'images': [],\n",
      "  'type': 'kivydiary...'},\n",
      " {'content': '\\n\\n我个人最大的缺陷...',\n",
      "  'date': '2018-01-10...',\n",
      "  'images': [],\n",
      "  'type': 'kivydiary...'},\n",
      " {'content': '\\n\\n大学就是一个垃圾...',\n",
      "  'date': '2018-01-12...',\n",
      "  'images': [],\n",
      "  'type': 'kivydiary...'},\n",
      " {'content': '\\n\\n人生就像写小说\\n...',\n",
      "  'date': '2018-01-28...',\n",
      "  'images': [],\n",
      "  'type': 'kivydiary...'},\n",
      " {'content': '\\n\\n现在我唯一能感受...',\n",
      "  'date': '2018-02-02...',\n",
      "  'images': [],\n",
      "  'type': 'kivydiary...'},\n",
      " {'content': '\\n\\n成为伟大的人物，...',\n",
      "  'date': '2018-02-08...',\n",
      "  'images': [],\n",
      "  'type': 'kivydiary...'},\n",
      " {'content': '\\n\\n遇到挫折不放手是...',\n",
      "  'date': '2018-02-21...',\n",
      "  'images': [],\n",
      "  'type': 'kivydiary...'}]\n"
     ]
    }
   ],
   "source": [
    "from auto_everything.python import Python\n",
    "py = Python()\n",
    "\n",
    "\n",
    "py.print(days[:10], limit=10)"
   ]
  },
  {
   "cell_type": "code",
   "execution_count": null,
   "metadata": {},
   "outputs": [],
   "source": []
  }
 ],
 "metadata": {
  "kernelspec": {
   "display_name": "Python 3",
   "language": "python",
   "name": "python3"
  },
  "language_info": {
   "codemirror_mode": {
    "name": "ipython",
    "version": 3
   },
   "file_extension": ".py",
   "mimetype": "text/x-python",
   "name": "python",
   "nbconvert_exporter": "python",
   "pygments_lexer": "ipython3",
   "version": "3.8.6"
  }
 },
 "nbformat": 4,
 "nbformat_minor": 4
}
