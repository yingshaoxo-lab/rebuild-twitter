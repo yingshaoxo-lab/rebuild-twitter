{
 "cells": [
  {
   "cell_type": "code",
   "execution_count": 3,
   "id": "7319fd65-c0cb-4a18-a606-ffc0690ba239",
   "metadata": {},
   "outputs": [],
   "source": [
    "from auto_everything.io import IO\n",
    "io_ = IO()"
   ]
  },
  {
   "cell_type": "code",
   "execution_count": 6,
   "id": "6806a2e3-d14f-410f-bf90-82392190bad3",
   "metadata": {},
   "outputs": [
    {
     "data": {
      "text/plain": [
       "'[\\n    [\\n        \"2020-04-28 00:11:14\",\\n        \"mine\",\\n        \"\\\\u7ec8\\\\u4e8e\\\\u53ef\\\\u4ee5\\\\u7528\\\\u4e0a\\\\u53ef\\\\u7231\\\\u7684\\\\u81ea\\\\u5236\\\\u7b14\\\\u8bb0\\\\u672c\\\\u4e86\\\\u3002\\\\u4e3a\\\\u81ea\\\\u5df1\\\\u611f\\\\u5230\\\\u81ea\\\\u8c6a\\\\uff01\",\\n        \"[\\\\\"data:image/png;base64,iVBORw0KGgoAAAANSUhEUgAABDgAAAhwCAIAAABH2RmtAAAAAXNSR0IArs4c6QAAAANzQklUCAgI2+FP4AAAIABJREFUeJzs3XlYVdX+x/Evw0FQQFQcQARBDWdwzJnEMsvZLDWzHEr6ZWqKQ1kO1VVLc7a8aqZpOCTX0lIxZ82hcB4QhxwBEUERxcPM749NOzrA4TBv9P167nOfxT5rr71AzP3Zew1mcXFxAgAAAACaYW9vb0ZQAQAAAKA15iX'"
      ]
     },
     "execution_count": 6,
     "metadata": {},
     "output_type": "execute_result"
    }
   ],
   "source": [
    "text = io_.read(\"mine.json\")\n",
    "text[:500]"
   ]
  },
  {
   "cell_type": "code",
   "execution_count": 7,
   "id": "5ceb92bd-96b5-487c-bc78-f477748f28a5",
   "metadata": {},
   "outputs": [],
   "source": [
    "import json\n",
    "\n",
    "data = json.loads(text)"
   ]
  },
  {
   "cell_type": "code",
   "execution_count": 11,
   "id": "73edeb48-337c-48ad-8b8b-9340268e4e7c",
   "metadata": {},
   "outputs": [
    {
     "name": "stdout",
     "output_type": "stream",
     "text": [
      "[['2020-04-28 00:11:14...',\n",
      "  'mine...',\n",
      "  '终于可以用上可爱的自制笔记本了。为自己感到自豪！...',\n",
      "  '[\"data:image/png;base64,iVBORw...'],\n",
      " ['2020-04-28 05:43:18...',\n",
      "  'mine...',\n",
      "  '脑袋只有这么大，不能把所有东西都装进去，只能挑重要的东西装。...',\n",
      "  '[]...'],\n",
      " ['2020-04-28 18:52:08...',\n",
      "  'mine...',\n",
      "  '如何判断中国新闻的真假？看下面的评论有没有人骂街、持反对意见...',\n",
      "  '[]...'],\n",
      " ['2020-04-28 20:49:19...',\n",
      "  'mine...',\n",
      "  '又想吃东西，又不想做东西，这是什么人？\\n\\n懒人。...',\n",
      "  '[]...'],\n",
      " ['2020-04-29 03:58:19...',\n",
      "  'mine...',\n",
      "  '林昭： https://zh.m.wikipedia.org...',\n",
      "  '[]...']]\n"
     ]
    }
   ],
   "source": [
    "from auto_everything.python import Python\n",
    "py = Python()\n",
    "\n",
    "py.print(data[:5], limit=30)"
   ]
  },
  {
   "cell_type": "code",
   "execution_count": 12,
   "id": "99176fd3-50e4-40ff-aa81-6fb9f0c26055",
   "metadata": {},
   "outputs": [
    {
     "name": "stdout",
     "output_type": "stream",
     "text": [
      "[{'content': '终于可以用上可爱的自制笔记本了。为自己感...',\n",
      "  'date': '2020-04-28 00:11:14...',\n",
      "  'images': '[\"data:image/png;bas...',\n",
      "  'type': 'mine...'},\n",
      " {'content': '脑袋只有这么大，不能把所有东西都装进去，...',\n",
      "  'date': '2020-04-28 05:43:18...',\n",
      "  'images': '[]...',\n",
      "  'type': 'mine...'},\n",
      " {'content': '如何判断中国新闻的真假？看下面的评论有没...',\n",
      "  'date': '2020-04-28 18:52:08...',\n",
      "  'images': '[]...',\n",
      "  'type': 'mine...'},\n",
      " {'content': '又想吃东西，又不想做东西，这是什么人？\\n...',\n",
      "  'date': '2020-04-28 20:49:19...',\n",
      "  'images': '[]...',\n",
      "  'type': 'mine...'},\n",
      " {'content': '林昭： https://zh.m.wik...',\n",
      "  'date': '2020-04-29 03:58:19...',\n",
      "  'images': '[]...',\n",
      "  'type': 'mine...'}]\n"
     ]
    }
   ],
   "source": [
    "new_data = []\n",
    "for each in data:\n",
    "    new_data.append({\n",
    "        \"date\": each[0],\n",
    "        \"type\": \"mine\",\n",
    "        \"content\": each[2],\n",
    "        \"images\": each[3]\n",
    "    })\n",
    "py.print(new_data[:5])"
   ]
  },
  {
   "cell_type": "code",
   "execution_count": null,
   "id": "522c4138-ffa1-40c8-a343-858270582894",
   "metadata": {},
   "outputs": [],
   "source": []
  }
 ],
 "metadata": {
  "kernelspec": {
   "display_name": "Python 3",
   "language": "python",
   "name": "python3"
  },
  "language_info": {
   "codemirror_mode": {
    "name": "ipython",
    "version": 3
   },
   "file_extension": ".py",
   "mimetype": "text/x-python",
   "name": "python",
   "nbconvert_exporter": "python",
   "pygments_lexer": "ipython3",
   "version": "3.8.6"
  }
 },
 "nbformat": 4,
 "nbformat_minor": 5
}
